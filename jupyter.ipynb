{
 "cells": [
  {
   "cell_type": "code",
   "execution_count": 3,
   "metadata": {},
   "outputs": [
    {
     "name": "stdout",
     "output_type": "stream",
     "text": [
      "プログラムを「コード001」で終了しました。\n"
     ]
    }
   ],
   "source": [
    "import pygame as pg\n",
    "\n",
    "def main():\n",
    "\n",
    "  # 初期化処理\n",
    "  pg.init() \n",
    "  pg.display.set_caption('ぼくのかんがえたさいきょうのげーむ')\n",
    "  disp_w, disp_h = 800, 600\n",
    "  screen = pg.display.set_mode((disp_w,disp_h)) # WindowSize\n",
    "  clock  = pg.time.Clock()\n",
    "  font   = pg.font.Font(None,15)\n",
    "  frame  = 0\n",
    "  exit_flag = False\n",
    "  exit_code = '000'\n",
    "\n",
    "  # ボールのパラメータ p:位置、v:速度、a:加速度\n",
    "  ball_p = pg.Vector2(50, 90)  # x=50, y=90 (px)\n",
    "  ball_v = pg.Vector2(2, 0)    # vx=2, vy=0 (px/frm)\n",
    "  ball_a = pg.Vector2(0, 0.9)  # ax=0, ay=0.9 (px/frm^2)\n",
    "  ball_r = 24                  # ボールの半径\n",
    "  ball_c = pg.Color('#ff0000') # ボールの色\n",
    "\n",
    "  ground_h = 48 # 地面の高さ\n",
    "\n",
    "  # ゲームループ\n",
    "  while not exit_flag:\n",
    "\n",
    "    # システムイベントの検出\n",
    "    for event in pg.event.get():\n",
    "      if event.type == pg.QUIT: # ウィンドウ[X]の押下\n",
    "        exit_flag = True\n",
    "        exit_code = '001'\n",
    "\n",
    "    # 背景描画\n",
    "    screen.fill(pg.Color('WHITE'))\n",
    "\n",
    "    # ボールの描画、位置・速度の更新\n",
    "    pg.draw.circle(screen,ball_c,ball_p,ball_r,width=2)\n",
    "    ball_p += ball_v\n",
    "    ball_v += ball_a\n",
    "\n",
    "    ## 地面との衝突処理\n",
    "    if ball_p.y >= disp_h - ground_h - ball_r :\n",
    "      ball_p.y = disp_h - ground_h - ball_r\n",
    "      ball_v.y = - 0.8 * ( ball_v.y - ball_a.y )\n",
    "\n",
    "    ## 右端と左端との衝突処理\n",
    "    if ball_p.x + ball_r > disp_w :\n",
    "      ball_p.x = disp_w - ball_r\n",
    "      ball_v.x = -0.8 * ball_v.x \n",
    "    elif ball_p.x - ball_r < 0:\n",
    "      ball_p.x = ball_r\n",
    "      ball_v.x = -0.8 * ball_v.x \n",
    "\n",
    "    # 地面描画 rectの 第3引数は (左上X, 左上Y ,幅 ,高さ)\n",
    "    pg.draw.rect(screen, pg.Color('#864A2B'),\n",
    "                (0, disp_h-ground_h, disp_w, disp_h))\n",
    "\n",
    "    # フレームカウンタの描画\n",
    "    frame += 1\n",
    "    frm_str = f'{frame:05}'\n",
    "    screen.blit(font.render(frm_str,True,'BLACK'),(10,10))\n",
    "\n",
    "    # 画面の更新と同期\n",
    "    pg.display.update()\n",
    "    clock.tick(30)\n",
    "\n",
    "  # ゲームループ [ここまで]\n",
    "  pg.quit()\n",
    "  return exit_code\n",
    "\n",
    "if __name__ == \"__main__\":\n",
    "  code = main()\n",
    "  print(f'プログラムを「コード{code}」で終了しました。')"
   ]
  },
  {
   "cell_type": "code",
   "execution_count": 9,
   "metadata": {},
   "outputs": [
    {
     "name": "stdout",
     "output_type": "stream",
     "text": [
      "data/download/ に bird.png を保存しました\n"
     ]
    }
   ],
   "source": [
    "%reset -f\n",
    "import os\n",
    "import requests\n",
    "\n",
    "# フォルダが存在しなければ作成\n",
    "dir = 'data/download/'\n",
    "if not os.path.isdir(dir):\n",
    "  os.makedirs(dir)\n",
    "\n",
    "fn = 'bird.png'\n",
    "url = 'http://dispell.net/etc/v4_bird1.png'\n",
    "res = requests.get(url)\n",
    "\n",
    "if res.status_code != 200:\n",
    "  raise Exception(f'ファイル {url} の取得に失敗。強制終了します。Code:{res.status_code}')\n",
    "else :\n",
    "  with open(f'{dir}/{fn}','wb') as file: \n",
    "    file.write(res.content)\n",
    "  print(f'{dir} に {fn} を保存しました')"
   ]
  }
 ],
 "metadata": {
  "kernelspec": {
   "display_name": ".venv",
   "language": "python",
   "name": "python3"
  },
  "language_info": {
   "codemirror_mode": {
    "name": "ipython",
    "version": 3
   },
   "file_extension": ".py",
   "mimetype": "text/x-python",
   "name": "python",
   "nbconvert_exporter": "python",
   "pygments_lexer": "ipython3",
   "version": "3.11.4"
  }
 },
 "nbformat": 4,
 "nbformat_minor": 2
}
